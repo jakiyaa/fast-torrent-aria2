{
  "nbformat": 4,
  "nbformat_minor": 0,
  "metadata": {
    "colab": {
      "name": "fast tor downloader googledrive.ipynb",
      "provenance": [],
      "collapsed_sections": [],
      "toc_visible": true
    },
    "kernelspec": {
      "name": "python3",
      "display_name": "Python 3"
    },
    "language_info": {
      "name": "python"
    }
  },
  "cells": [
    {
      "cell_type": "markdown",
      "metadata": {
        "id": "cJzY3hfpLwPj"
      },
      "source": [
        "\n",
        "# ⎝乡torrent/direct <font color='greenr'>upload </font> to  <font color='lightblue'>Google drive</font><img src='https://www.clipartmax.com/png/full/220-2204620_%C2%A0-google-docs-sheets-and-slides.png' height=\"90\" />   BY'-  <font color='red'> ツ  jคK¡ץA   ⎝⎝乡 </font>\n",
        "\n"
      ]
    },
    {
      "cell_type": "markdown",
      "metadata": {
        "id": "eqVwKRRQycuK"
      },
      "source": [
        "# 1.Mount <font color='yellow'> Google drive <img src='https://www.clipartmax.com/png/full/220-2204620_%C2%A0-google-docs-sheets-and-slides.png' height=\"90\" />"
      ]
    },
    {
      "cell_type": "code",
      "metadata": {
        "id": "OUhsEj8g-ssf"
      },
      "source": [
        "from google.colab import drive\n",
        "drive.mount('/content/drive')"
      ],
      "execution_count": null,
      "outputs": []
    },
    {
      "cell_type": "code",
      "metadata": {
        "id": "I_1jMrKzaSPC"
      },
      "source": [
        "!python -m pip install aria2p[tui]\n"
      ],
      "execution_count": null,
      "outputs": []
    },
    {
      "cell_type": "markdown",
      "metadata": {
        "id": "PC4vG0gOySge"
      },
      "source": [
        "#2.Paste <font color='orange'> Direct download link  <img src='https://iconarchive.com/download/i99352/dtafalonso/android-lollipop/Downloads.ico' height=\"100\" alt=\"RcloneLab\"/>"
      ]
    },
    {
      "cell_type": "code",
      "metadata": {
        "id": "AhDgrbKkbIZa"
      },
      "source": [
        "cd #/downloadpath"
      ],
      "execution_count": null,
      "outputs": []
    },
    {
      "cell_type": "code",
      "metadata": {
        "id": "4ujlm9jxa8KO"
      },
      "source": [
        "!aria2c \"magnetlink\"\n"
      ],
      "execution_count": null,
      "outputs": []
    }
  ]
}